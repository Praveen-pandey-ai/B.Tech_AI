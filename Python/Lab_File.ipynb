{
  "nbformat": 4,
  "nbformat_minor": 0,
  "metadata": {
    "colab": {
      "provenance": []
    },
    "kernelspec": {
      "name": "python3",
      "display_name": "Python 3"
    },
    "language_info": {
      "name": "python"
    }
  },
  "cells": [
    {
      "cell_type": "markdown",
      "source": [
        "### 1. Write a program to understand the different basic data types and expressions.\n"
      ],
      "metadata": {
        "id": "0tXhjE2j2Lqw"
      }
    },
    {
      "cell_type": "code",
      "source": [
        "# Integer data type\n",
        "num1 = 10\n",
        "\n",
        "# Float data type\n",
        "num2 = 3.14\n",
        "\n",
        "# String data type\n",
        "name = \"Hiyaa\"\n",
        "\n",
        "# Boolean data type\n",
        "is_true = True\n",
        "\n",
        "# Basic arithmetic expressions\n",
        "sum_result = num1 + num2\n",
        "difference_result = num1 - num2\n",
        "product_result = num1 * num2\n",
        "division_result = num1 / num2\n",
        "modulus_result = num1 % 3\n",
        "\n",
        "# String concatenation\n",
        "greeting = \"Hello, \" + name + \"!\"\n",
        "\n",
        "# Boolean expressions\n",
        "is_equal = num1 == num2\n",
        "is_greater = num1 > num2\n",
        "is_true_and_greater = is_true and is_greater\n",
        "is_true_or_equal = is_true or is_equal\n",
        "\n",
        "print(\"num1:\", num1, \" (int)\")\n",
        "print(\"num2:\", num2, \" (float)\")\n",
        "print(\"name:\", name, \" (string)\")\n",
        "print(\"is_true:\", is_true, \" (boolean)\")\n",
        "\n",
        "print(\"\\nArithmetic Expressions:\")\n",
        "print(\"Sum:\", sum_result)\n",
        "print(\"Difference:\", difference_result)\n",
        "print(\"Product:\", product_result)\n",
        "print(\"Division:\", division_result)\n",
        "print(\"Modulus:\", modulus_result)\n",
        "\n",
        "print(\"\\nString Concatenation:\")\n",
        "print(greeting)\n",
        "\n",
        "print(\"\\nBoolean Expressions:\")\n",
        "print(\"num1 == num2:\", is_equal)\n",
        "print(\"num1 > num2:\", is_greater)\n",
        "print(\"is_true and is_greater:\", is_true_and_greater)\n",
        "print(\"is_true or is_equal:\", is_true_or_equal)"
      ],
      "metadata": {
        "id": "9Arbbfk82OXF",
        "colab": {
          "base_uri": "https://localhost:8080/"
        },
        "outputId": "57d302fb-b16d-4946-85b8-b5a950e45cf6"
      },
      "execution_count": 1,
      "outputs": [
        {
          "output_type": "stream",
          "name": "stdout",
          "text": [
            "num1: 10  (int)\n",
            "num2: 3.14  (float)\n",
            "name: Hiyaa  (string)\n",
            "is_true: True  (boolean)\n",
            "\n",
            "Arithmetic Expressions:\n",
            "Sum: 13.14\n",
            "Difference: 6.859999999999999\n",
            "Product: 31.400000000000002\n",
            "Division: 3.184713375796178\n",
            "Modulus: 1\n",
            "\n",
            "String Concatenation:\n",
            "Hello, Hiyaa!\n",
            "\n",
            "Boolean Expressions:\n",
            "num1 == num2: False\n",
            "num1 > num2: True\n",
            "is_true and is_greater: True\n",
            "is_true or is_equal: True\n"
          ]
        }
      ]
    },
    {
      "cell_type": "markdown",
      "source": [
        "### 2. Write a program to read two integers and find the sum, diff, mult and div."
      ],
      "metadata": {
        "id": "zfrHH_gJWv7l"
      }
    },
    {
      "cell_type": "code",
      "source": [
        "num1 = int(input(\"Enter num 1 : \"))\n",
        "num2 = int(input(\"Enter num 2 : \"))\n",
        "sum = num1 + num2\n",
        "diff = num2 - num1\n",
        "mult = num1 * num2\n",
        "div = num1/num2\n",
        "print(\"Sum of numbers is : \",sum)\n",
        "print(\"difference of numbers is :\",diff)\n",
        "print(\"multiplication of numbers is:\",mult)\n",
        "print(\"Division is : \",div)\n"
      ],
      "metadata": {
        "colab": {
          "base_uri": "https://localhost:8080/"
        },
        "id": "sDBjiOiuW2A8",
        "outputId": "c697144c-8e2f-4912-b737-c44bc561d472"
      },
      "execution_count": null,
      "outputs": [
        {
          "output_type": "stream",
          "name": "stdout",
          "text": [
            "Enter num 1 : 5\n",
            "Enter num 2 : 10\n",
            "Sum of numbers is :  15\n",
            "difference of numbers is : 5\n",
            "multiplication of numbers is: 50\n",
            "Division is :  0.5\n"
          ]
        }
      ]
    },
    {
      "cell_type": "markdown",
      "source": [
        "### 3. Write a program to find the simple interest for a given value P, T and R. The program must take the input from the user\n"
      ],
      "metadata": {
        "id": "tKKdXSQhX5PP"
      }
    },
    {
      "cell_type": "code",
      "source": [
        "principal = float(input(\"Enter the principal amount (P): \"))\n",
        "time = float(input(\"Enter the time period (T) in years: \"))\n",
        "rate = float(input(\"Enter the interest rate (R) in percentage: \"))\n",
        "\n",
        "# Convert rate from percentage to decimal\n",
        "rate = rate / 100\n",
        "\n",
        "# Calculate simple interest\n",
        "simple_interest = (principal * time * rate)\n",
        "\n",
        "# Display the result\n",
        "print(f\"Simple Interest (I) = {simple_interest:.2f}\")\n"
      ],
      "metadata": {
        "colab": {
          "base_uri": "https://localhost:8080/"
        },
        "id": "Hel3xKx0YLE7",
        "outputId": "57ad15ca-f4f1-40eb-9fe7-3de70c91133c"
      },
      "execution_count": null,
      "outputs": [
        {
          "output_type": "stream",
          "name": "stdout",
          "text": [
            "Enter the principal amount (P): 100000\n",
            "Enter the time period (T) in years: 5\n",
            "Enter the interest rate (R) in percentage: 12\n",
            "Simple Interest (I) = 60000.00\n"
          ]
        }
      ]
    },
    {
      "cell_type": "markdown",
      "source": [
        "### 4. Write a program to show the use of operators in Python"
      ],
      "metadata": {
        "id": "Z7EIcVkQYfQW"
      }
    },
    {
      "cell_type": "code",
      "source": [
        "# Arithmetic operators\n",
        "num1 = 10\n",
        "num2 = 5\n",
        "addition = num1 + num2\n",
        "modulus = num1 % num2\n",
        "exponentiation = num1 ** num2\n",
        "\n",
        "print(\"Arithmetic Operators:\")\n",
        "print(\"num1 + num2 =\", addition)\n",
        "print(\"num1 % num2 =\", modulus)\n",
        "print(\"num1 ** num2 =\", exponentiation)\n",
        "\n",
        "# Comparison operators\n",
        "is_equal = num1 == num2\n",
        "is_not_equal = num1 != num2\n",
        "is_greater = num1 > num2\n",
        "is_less = num1 < num2\n",
        "is_greater_equal = num1 >= num2\n",
        "is_less_equal = num1 <= num2\n",
        "\n",
        "print(\"\\nComparison Operators:\")\n",
        "print(\"num1 == num2 is\", is_equal)\n",
        "print(\"num1 != num2 is\", is_not_equal)\n",
        "print(\"num1 > num2 is\", is_greater)\n",
        "print(\"num1 < num2 is\", is_less)\n",
        "print(\"num1 >= num2 is\", is_greater_equal)\n",
        "print(\"num1 <= num2 is\", is_less_equal)\n",
        "\n",
        "# Logical operators\n",
        "is_true = True\n",
        "is_false = False\n",
        "\n",
        "and_result = is_true and is_false\n",
        "or_result = is_true or is_false\n",
        "not_result = not is_true\n",
        "\n",
        "print(\"\\nLogical Operators:\")\n",
        "print(\"is_true and is_false is\", and_result)\n",
        "print(\"is_true or is_false is\", or_result)\n",
        "print(\"not is_true is\", not_result)\n",
        "\n",
        "# Assignment operators\n",
        "x = 5\n",
        "x += 2\n",
        "x -= 1\n",
        "x *= 3\n",
        "x /= 2\n",
        "\n",
        "print(\"\\nAssignment Operators:\")\n",
        "print(\"x =\", x)\n",
        "\n",
        "# Bitwise operators\n",
        "num3 = 7  # binary: 0111\n",
        "num4 = 3  # binary: 0011\n",
        "\n",
        "bitwise_and = num3 & num4  # 0011 (decimal 3)\n",
        "bitwise_or = num3 | num4   # 0111 (decimal 7)\n",
        "bitwise_xor = num3 ^ num4  # 0100 (decimal 4)\n",
        "bitwise_not = ~num3        # 1000 (decimal -8)\n",
        "\n",
        "print(\"\\nBitwise Operators:\")\n",
        "print(\"num3 & num4 =\", bitwise_and)\n",
        "print(\"num3 | num4 =\", bitwise_or)\n",
        "print(\"num3 ^ num4 =\", bitwise_xor)\n",
        "print(\"~num3 =\", bitwise_not)\n",
        "\n",
        "# Membership operators\n",
        "fruits = [\"apple\", \"banana\", \"cherry\"]\n",
        "\n",
        "print(\"\\nMembership Operators:\")\n",
        "print(\"banana in fruits is\", \"banana\" in fruits)\n",
        "print(\"orange not in fruits is\", \"orange\" not in fruits)\n",
        "\n",
        "# Identity operators\n",
        "a = [1, 2, 3]\n",
        "b = a\n",
        "c = [1, 2, 3]\n",
        "\n",
        "print(\"\\nIdentity Operators:\")\n",
        "print(\"a is b is\", a is b)\n",
        "print(\"a is c is\", a is c)\n"
      ],
      "metadata": {
        "colab": {
          "base_uri": "https://localhost:8080/"
        },
        "id": "j0o3esOgYgeX",
        "outputId": "302fc900-9e9b-4b42-dbbf-a19332639277"
      },
      "execution_count": null,
      "outputs": [
        {
          "output_type": "stream",
          "name": "stdout",
          "text": [
            "Arithmetic Operators:\n",
            "num1 + num2 = 15\n",
            "num1 % num2 = 0\n",
            "num1 ** num2 = 100000\n",
            "\n",
            "Comparison Operators:\n",
            "num1 == num2 is False\n",
            "num1 != num2 is True\n",
            "num1 > num2 is True\n",
            "num1 < num2 is False\n",
            "num1 >= num2 is True\n",
            "num1 <= num2 is False\n",
            "\n",
            "Logical Operators:\n",
            "is_true and is_false is False\n",
            "is_true or is_false is True\n",
            "not is_true is False\n",
            "\n",
            "Assignment Operators:\n",
            "x = 9.0\n",
            "\n",
            "Bitwise Operators:\n",
            "num3 & num4 = 3\n",
            "num3 | num4 = 7\n",
            "num3 ^ num4 = 4\n",
            "~num3 = -8\n",
            "\n",
            "Membership Operators:\n",
            "banana in fruits is True\n",
            "orange not in fruits is True\n",
            "\n",
            "Identity Operators:\n",
            "a is b is True\n",
            "a is c is False\n"
          ]
        }
      ]
    },
    {
      "cell_type": "markdown",
      "source": [
        "### 5. Write a program to find greatest of three numbers using:\n",
        "*   nested if\n",
        "*   If-elif-else ladder\n"
      ],
      "metadata": {
        "id": "VAW0yk5UY602"
      }
    },
    {
      "cell_type": "code",
      "execution_count": null,
      "metadata": {
        "id": "N9GhaJiB0-Uq",
        "colab": {
          "base_uri": "https://localhost:8080/"
        },
        "outputId": "b1b67e9d-54ef-45e8-c8e6-065e2d5ed6d9"
      },
      "outputs": [
        {
          "output_type": "stream",
          "name": "stdout",
          "text": [
            "Enter number 1 : 21\n",
            "Enter number 2 : -12\n",
            "Enter number 3 : 3\n",
            "21 is greatest\n"
          ]
        }
      ],
      "source": [
        "a = int(input(\"Enter number 1 : \"))\n",
        "b = int(input(\"Enter number 2 : \"))\n",
        "c = int(input(\"Enter number 3 : \"))\n",
        "\n",
        "if a>b:\n",
        "  if a>c :\n",
        "    print(f\"{a} is greatest\")\n",
        "  else:\n",
        "    print(f\"{c} is greatest\")\n",
        "if b>a:\n",
        "   if b>c:\n",
        "    print(f\"{b} is greatest\")\n",
        "if c>a:\n",
        "  if c>b:\n",
        "    print(f\"{c} is greatest\")"
      ]
    },
    {
      "cell_type": "code",
      "source": [
        "a = int(input(\"Enter number 1 : \"))\n",
        "b = int(input(\"Enter number 2 : \"))\n",
        "c = int(input(\"Enter number 3 : \"))\n",
        "\n",
        "if a>b and a>c :\n",
        "  print(f\"{a} is greatest\")\n",
        "elif b>a and b>c:\n",
        "  print(f\"{b} is greatest\")\n",
        "else:\n",
        "  print(f\"{c} is greatest\")"
      ],
      "metadata": {
        "id": "s82pOxXY1Cru",
        "outputId": "9f745d12-a595-4a63-835c-a6629ba70b17",
        "colab": {
          "base_uri": "https://localhost:8080/"
        }
      },
      "execution_count": null,
      "outputs": [
        {
          "output_type": "stream",
          "name": "stdout",
          "text": [
            "Enter number 1 : 3\n",
            "Enter number 2 : -1\n",
            "Enter number 3 : 3\n",
            "3 is greatest\n"
          ]
        }
      ]
    },
    {
      "cell_type": "markdown",
      "source": [
        "### 6. Write a python program to generate first n Fibonacci number and factorial of n using:\n",
        "\n",
        "*   A. functions\n",
        "*   B. recursion\n"
      ],
      "metadata": {
        "id": "Sxysoh9XamoK"
      }
    },
    {
      "cell_type": "code",
      "source": [
        "# using function\n",
        "def fibo(x):\n",
        "  fibo_seq = []\n",
        "  a = 0\n",
        "  b = 1\n",
        "  for i in range(x):\n",
        "    fibo_seq.append(a)\n",
        "    temp = a+b\n",
        "    a = b\n",
        "    b = temp\n",
        "  print(fibo_seq)\n",
        "fibo(6)\n",
        "#0, 1, 1, 2, 3, 5,"
      ],
      "metadata": {
        "colab": {
          "base_uri": "https://localhost:8080/"
        },
        "id": "G4kgzBVYcmNG",
        "outputId": "67b19ea5-3e8a-4438-d7e1-f434b9d992ec"
      },
      "execution_count": null,
      "outputs": [
        {
          "output_type": "stream",
          "name": "stdout",
          "text": [
            "[0, 1, 1, 2, 3, 5]\n"
          ]
        }
      ]
    },
    {
      "cell_type": "code",
      "source": [
        "# using function\n",
        "def fact(y):\n",
        "  factorial = 1\n",
        "  for i in range(y,0,-1):\n",
        "    factorial = factorial * i\n",
        "  print(factorial)\n",
        "n = int(input(\"Enter number to calculate its factorial : \"))\n",
        "fact(n)"
      ],
      "metadata": {
        "colab": {
          "base_uri": "https://localhost:8080/"
        },
        "id": "ylmdGUxwawgg",
        "outputId": "35b8bf60-80b3-4994-c59a-d9d432993c6d"
      },
      "execution_count": null,
      "outputs": [
        {
          "output_type": "stream",
          "name": "stdout",
          "text": [
            "Enter number to calculate its factorial : 12\n",
            "479001600\n"
          ]
        }
      ]
    },
    {
      "cell_type": "code",
      "source": [
        "#using recursion\n",
        "# Function to calculate the factorial of a number using recursion\n",
        "def factorial_recursive(n):\n",
        "    if n == 0:\n",
        "        return 1\n",
        "    else:\n",
        "        return n * factorial_recursive(n - 1)\n",
        "\n",
        "# Function to generate the nth Fibonacci number using recursion\n",
        "def fibonacci_recursive(n):\n",
        "    if n <= 0:\n",
        "        return 0\n",
        "    elif n == 1:\n",
        "        return 1\n",
        "    else:\n",
        "        return fibonacci_recursive(n - 1) + fibonacci_recursive(n - 2)\n",
        "\n",
        "# Input from the user\n",
        "n = int(input(\"Enter a positive integer (n): \"))\n",
        "\n",
        "if n < 0:\n",
        "    print(\"Please enter a positive integer.\")\n",
        "else:\n",
        "    # Calculate factorial using recursion\n",
        "    fact = factorial_recursive(n)\n",
        "    print(f\"Factorial of {n} is {fact}\")\n",
        "\n",
        "    # Generate nth Fibonacci number using recursion\n",
        "    fib_number = fibonacci_recursive(n)\n",
        "    print(f\"The {n}th Fibonacci number is: {fib_number}\")\n"
      ],
      "metadata": {
        "colab": {
          "base_uri": "https://localhost:8080/"
        },
        "id": "UciYlZpC-f-E",
        "outputId": "6dc2b065-b066-459d-d206-ff6b216479f3"
      },
      "execution_count": null,
      "outputs": [
        {
          "output_type": "stream",
          "name": "stdout",
          "text": [
            "Enter a positive integer (n): 12\n",
            "Factorial of 12 is 479001600\n",
            "The 12th Fibonacci number is: 144\n"
          ]
        }
      ]
    },
    {
      "cell_type": "markdown",
      "source": [
        "7.  Create a class Rectangle and define two attributes length and width. Define a method to calculate the area of the rectangle."
      ],
      "metadata": {
        "id": "syYokmxrzwDU"
      }
    },
    {
      "cell_type": "code",
      "source": [
        "class Rectangle:\n",
        "    def __init__(self, length, width):\n",
        "        self.length = length\n",
        "        self.width = width\n",
        "\n",
        "    def calculate_area(self):\n",
        "        return self.length * self.width\n",
        "\n",
        "# Usage example:\n",
        "length = 5\n",
        "width = 3\n",
        "my_rectangle = Rectangle(length, width)\n",
        "area = my_rectangle.calculate_area()\n",
        "print(f\"The area of the rectangle is {area}\")\n"
      ],
      "metadata": {
        "id": "cGcKcxEkvkch",
        "colab": {
          "base_uri": "https://localhost:8080/"
        },
        "outputId": "266bb185-901a-4d1b-ddd9-874e42f078b6"
      },
      "execution_count": null,
      "outputs": [
        {
          "output_type": "stream",
          "name": "stdout",
          "text": [
            "The area of the rectangle is 15\n"
          ]
        }
      ]
    },
    {
      "cell_type": "markdown",
      "source": [
        "8. Write a program to show the implementation of:\n",
        "\n",
        "a. Default constructor\n",
        "\n",
        "b. Parametrised constructor\n",
        "\n",
        "c. Destructor"
      ],
      "metadata": {
        "id": "Os-i2EJR0EAl"
      }
    },
    {
      "cell_type": "code",
      "source": [
        "class MyClass:\n",
        "    # Default Constructor\n",
        "    def __init__(self, param=None):\n",
        "        if param is None:\n",
        "            print(\"Default Constructor called.\")\n",
        "        else:\n",
        "            self.param = param\n",
        "            print(f\"Parametrized Constructor called with parameter: {param}\")\n",
        "\n",
        "    # Destructor-like method\n",
        "    def __del__(self):\n",
        "        print(\"Destructor called.\")\n",
        "\n",
        "# Using the constructors and destructor-like method\n",
        "print(\"Creating object using Default Constructor:\")\n",
        "obj1 = MyClass()  # Default constructor called\n",
        "\n",
        "print(\"\\nCreating object using Parametrized Constructor:\")\n",
        "obj2 = MyClass(10)  # Parametrized constructor called with parameter 10\n",
        "\n",
        "print(\"\\nObjects will be automatically destroyed when out of scope.\")\n"
      ],
      "metadata": {
        "id": "zLk3Y2fJ0FMk",
        "colab": {
          "base_uri": "https://localhost:8080/"
        },
        "outputId": "9c6b27e6-7dda-451f-b5df-74f15230e9ff"
      },
      "execution_count": null,
      "outputs": [
        {
          "output_type": "stream",
          "name": "stdout",
          "text": [
            "Creating object using Default Constructor:\n",
            "Default Constructor called.\n",
            "\n",
            "Creating object using Parametrized Constructor:\n",
            "Parametrized Constructor called with parameter: 10\n",
            "\n",
            "Objects will be automatically destroyed when out of scope.\n"
          ]
        }
      ]
    },
    {
      "cell_type": "markdown",
      "source": [
        "9.  Create a class called NUMBERS, which has a single class attribute called MULTIPLIER, and a constructor which\n",
        "takes the parameters x and y (these should all be numbers).\n",
        "\n",
        "a. Write an instance method called add which returns the sum of the attributes x and y.\n",
        "\n",
        "b. Write a class method called multiply, which takes a single number parameter  and returns the product of\n",
        " and MULTIPLIER.\n",
        "\n",
        "c. Write a static method called subtract, which takes two number objects, b and c, and returns b - c.\n",
        "\n",
        "d. Write a method called value which returns a tuple containing the values of x and y"
      ],
      "metadata": {
        "id": "uaGMAa910PsU"
      }
    },
    {
      "cell_type": "code",
      "source": [
        "class NUMBERS:\n",
        "    MULTIPLIER = 10  # Class attribute\n",
        "\n",
        "    def __init__(self, x, y):\n",
        "        self.x = x\n",
        "        self.y = y\n",
        "\n",
        "    # Instance method to add x and y\n",
        "    def add(self):\n",
        "        return self.x + self.y\n",
        "\n",
        "    # Class method to multiply a by MULTIPLIER\n",
        "    @classmethod\n",
        "    def multiply(cls, a):\n",
        "        return a * cls.MULTIPLIER\n",
        "\n",
        "    # Static method to subtract b from c\n",
        "    @staticmethod\n",
        "    def subtract(b, c):\n",
        "        return b - c\n",
        "\n",
        "    # Method to return a tuple of values x and y\n",
        "    def value(self):\n",
        "        return (self.x, self.y)\n",
        "\n",
        "# Example usage:\n",
        "num_instance = NUMBERS(5, 7)\n",
        "\n",
        "# Using instance method\n",
        "sum_result = num_instance.add()\n",
        "print(f\"Sum: {sum_result}\")\n",
        "\n",
        "# Using class method\n",
        "multiply_result = NUMBERS.multiply(3)\n",
        "print(f\"Multiplication: {multiply_result}\")\n",
        "\n",
        "# Using static method\n",
        "subtract_result = NUMBERS.subtract(10, 3)\n",
        "print(f\"Subtraction: {subtract_result}\")\n",
        "\n",
        "# Using value method\n",
        "values = num_instance.value()\n",
        "print(f\"Values: {values}\")\n"
      ],
      "metadata": {
        "id": "DkRHrG9u__Mt",
        "colab": {
          "base_uri": "https://localhost:8080/"
        },
        "outputId": "73b1644d-db6b-4ddf-f6eb-a880946c92c9"
      },
      "execution_count": null,
      "outputs": [
        {
          "output_type": "stream",
          "name": "stdout",
          "text": [
            "Sum: 12\n",
            "Multiplication: 30\n",
            "Subtraction: 7\n",
            "Values: (5, 7)\n"
          ]
        }
      ]
    },
    {
      "cell_type": "markdown",
      "source": [
        "10. Create a module named ‘Arithmetic’ having basic arithmetic functions. Import this module and use the functions\n",
        "to implement the arithmetic operations.\n"
      ],
      "metadata": {
        "id": "bdQ8yI5F0uPL"
      }
    },
    {
      "cell_type": "code",
      "source": [
        "%%writefile Arithmetic.py\n",
        "\n",
        "def add(x, y):\n",
        "    return x + y\n",
        "\n",
        "def subtract(x, y):\n",
        "    return x - y\n",
        "\n",
        "def multiply(x, y):\n",
        "    return x * y\n",
        "\n",
        "def divide(x, y):\n",
        "    if y != 0:\n",
        "        return x / y\n",
        "    else:\n",
        "        return \"Cannot divide by zero\"\n"
      ],
      "metadata": {
        "colab": {
          "base_uri": "https://localhost:8080/"
        },
        "id": "hfLtPzDyUgyh",
        "outputId": "0247e5a7-0c8e-4d6b-ee01-feed0cc9cbc9"
      },
      "execution_count": null,
      "outputs": [
        {
          "output_type": "stream",
          "name": "stdout",
          "text": [
            "Writing Arithmetic.py\n"
          ]
        }
      ]
    },
    {
      "cell_type": "code",
      "source": [
        "from Arithmetic import add, subtract, multiply, divide\n",
        "\n",
        "# Example usage of Arithmetic module functions\n",
        "num1 = 10\n",
        "num2 = 5\n",
        "\n",
        "# Addition\n",
        "sum_result = add(num1, num2)\n",
        "print(f\"Sum: {sum_result}\")\n",
        "\n",
        "# Subtraction\n",
        "difference = subtract(num1, num2)\n",
        "print(f\"Difference: {difference}\")\n",
        "\n",
        "# Multiplication\n",
        "product = multiply(num1, num2)\n",
        "print(f\"Product: {product}\")\n",
        "\n",
        "# Division\n",
        "quotient = divide(num1, num2)\n",
        "print(f\"Quotient: {quotient}\")\n"
      ],
      "metadata": {
        "colab": {
          "base_uri": "https://localhost:8080/"
        },
        "id": "2Xu-17jkUpSe",
        "outputId": "e680f253-47b4-47bf-d363-7e90c65f9a4d"
      },
      "execution_count": null,
      "outputs": [
        {
          "output_type": "stream",
          "name": "stdout",
          "text": [
            "Sum: 15\n",
            "Difference: 5\n",
            "Product: 50\n",
            "Quotient: 2.0\n"
          ]
        }
      ]
    },
    {
      "cell_type": "markdown",
      "source": [
        "11. Write a program to print the following pattern:\n",
        "\n",
        "A\n",
        "\n",
        "A B\n",
        "\n",
        "A B C\n",
        "\n",
        "A B C D\n",
        "\n",
        "A B C D E"
      ],
      "metadata": {
        "id": "be2cnuoD1BJi"
      }
    },
    {
      "cell_type": "code",
      "source": [
        "n = 5  # Number of rows for the pattern\n",
        "\n",
        "for i in range(1, n + 1):\n",
        "    # Print characters from 'A' to 'A + i - 1' for each row\n",
        "    for j in range(ord('A'), ord('A') + i):\n",
        "        print(chr(j), end=' ')\n",
        "    print()  # Move to the next line after each row\n"
      ],
      "metadata": {
        "id": "9jBjSH8g1DNE",
        "colab": {
          "base_uri": "https://localhost:8080/"
        },
        "outputId": "50d49b91-17ed-4ef7-f4a4-053ed0bc670f"
      },
      "execution_count": null,
      "outputs": [
        {
          "output_type": "stream",
          "name": "stdout",
          "text": [
            "A \n",
            "A B \n",
            "A B C \n",
            "A B C D \n",
            "A B C D E \n"
          ]
        }
      ]
    },
    {
      "cell_type": "markdown",
      "source": [
        "12. 40. Write a program using split() method to split a multiline string."
      ],
      "metadata": {
        "id": "2TB3JWk71IJZ"
      }
    },
    {
      "cell_type": "code",
      "source": [
        "# Multiline string\n",
        "multiline_string = \"\"\"This is the first line.\n",
        "This is the second line.\n",
        "And this is the third line.\"\"\"\n",
        "\n",
        "# Split the multiline string into a list of lines\n",
        "lines = multiline_string.split('\\n')\n",
        "\n",
        "# Print each line\n",
        "for line in lines:\n",
        "    print(line)\n"
      ],
      "metadata": {
        "id": "5oIaV7Tc1OfA",
        "colab": {
          "base_uri": "https://localhost:8080/"
        },
        "outputId": "3e6771eb-f6fe-445c-8624-536d7d9867b5"
      },
      "execution_count": null,
      "outputs": [
        {
          "output_type": "stream",
          "name": "stdout",
          "text": [
            "This is the first line.\n",
            "This is the second line.\n",
            "And this is the third line.\n"
          ]
        }
      ]
    },
    {
      "cell_type": "markdown",
      "source": [
        "13.\n",
        "Write a program that accepts a string, remove all vowels and print the remaining string"
      ],
      "metadata": {
        "id": "gX-sZzwcD4Uz"
      }
    },
    {
      "cell_type": "code",
      "source": [
        "class NUMBERS:\n",
        "    MULTIPLIER = 10  # Class attribute\n",
        "\n",
        "    def __init__(self, x, y):\n",
        "        self.x = x\n",
        "        self.y = y\n",
        "\n",
        "    # Instance method to add x and y\n",
        "    def add(self):\n",
        "        return self.x + self.y\n",
        "\n",
        "    # Class method to multiply a by MULTIPLIER\n",
        "    @classmethod\n",
        "    def multiply(cls, a):\n",
        "        return a * cls.MULTIPLIER\n",
        "\n",
        "    # Static method to subtract b from c\n",
        "    @staticmethod\n",
        "    def subtract(b, c):\n",
        "        return b - c\n",
        "\n",
        "    # Method to return a tuple of values x and y\n",
        "    def value(self):\n",
        "        return (self.x, self.y)\n",
        "\n",
        "# Example usage:\n",
        "num_instance = NUMBERS(5, 7)\n",
        "\n",
        "# Using instance method\n",
        "sum_result = num_instance.add()\n",
        "print(f\"Sum: {sum_result}\")\n",
        "\n",
        "# Using class method\n",
        "multiply_result = NUMBERS.multiply(3)\n",
        "print(f\"Multiplication: {multiply_result}\")\n",
        "\n",
        "# Using static method\n",
        "subtract_result = NUMBERS.subtract(10, 3)\n",
        "print(f\"Subtraction: {subtract_result}\")\n",
        "\n",
        "# Using value method\n",
        "values = num_instance.value()\n",
        "print(f\"Values: {values}\")\n"
      ],
      "metadata": {
        "id": "G3nEVvRn0lG-",
        "colab": {
          "base_uri": "https://localhost:8080/"
        },
        "outputId": "ba89c5af-215f-408a-b263-3ad322498c5b"
      },
      "execution_count": null,
      "outputs": [
        {
          "output_type": "stream",
          "name": "stdout",
          "text": [
            "Sum: 12\n",
            "Multiplication: 30\n",
            "Subtraction: 7\n",
            "Values: (5, 7)\n"
          ]
        }
      ]
    },
    {
      "cell_type": "code",
      "source": [
        "vowels = \"aeiouAEIOU\"\n",
        "string = input(\"Enter a string: \")\n",
        "result = \"\"\n",
        "for char in string:\n",
        "  if char not in vowels:\n",
        "    result += char\n",
        "print(\"The string without vowels is:\", result)"
      ],
      "metadata": {
        "id": "hWZn1d3WD5pD",
        "colab": {
          "base_uri": "https://localhost:8080/"
        },
        "outputId": "6c26ab13-ce93-45ab-ab29-060e744d42b4"
      },
      "execution_count": null,
      "outputs": [
        {
          "output_type": "stream",
          "name": "stdout",
          "text": [
            "Enter a string: This is a string to count vowels\n",
            "The string without vowels is: Ths s  strng t cnt vwls\n"
          ]
        }
      ]
    },
    {
      "cell_type": "markdown",
      "source": [
        "14.\n",
        "Write a program to find whether a given character is present in a string or not. If it is present, print its index."
      ],
      "metadata": {
        "id": "BaRVn718EG64"
      }
    },
    {
      "cell_type": "code",
      "source": [
        "string = input(\"Enter a string: \")\n",
        "char = input(\"Enter a character: \")\n",
        "index = string.find(char)\n",
        "if index != -1:\n",
        "  print(\"The character\", char, \"is present at index\", index)\n",
        "else:\n",
        "  print(\"The character\", char, \"is not present in the string\")\n"
      ],
      "metadata": {
        "id": "nUUZsy8jEMFL",
        "colab": {
          "base_uri": "https://localhost:8080/"
        },
        "outputId": "873b8fa8-d41a-478b-e3d8-094b81813166"
      },
      "execution_count": null,
      "outputs": [
        {
          "output_type": "stream",
          "name": "stdout",
          "text": [
            "Enter a string: lists are mutable.\n",
            "Enter a character: a\n",
            "The character a is present at index 6\n"
          ]
        }
      ]
    },
    {
      "cell_type": "markdown",
      "source": [
        "15.\n",
        "Write a program to reverse a string."
      ],
      "metadata": {
        "id": "e4kAsjhuEnTJ"
      }
    },
    {
      "cell_type": "code",
      "source": [
        "string = input(\"Enter a string: \")\n",
        "reverse = string[::-1]\n",
        "print(\"The reversed string is:\", reverse)"
      ],
      "metadata": {
        "id": "HKQGrA0bEiLf",
        "colab": {
          "base_uri": "https://localhost:8080/"
        },
        "outputId": "d5dd7579-197f-4b4a-8ae7-2264179b5f6c"
      },
      "execution_count": null,
      "outputs": [
        {
          "output_type": "stream",
          "name": "stdout",
          "text": [
            "Enter a string: reversing a string\n",
            "The reversed string is: gnirts a gnisrever\n"
          ]
        }
      ]
    },
    {
      "cell_type": "markdown",
      "source": [
        "16. Write a program to count the number of occurrences of a specific character without using count() function."
      ],
      "metadata": {
        "id": "99LcHlm_Cekn"
      }
    },
    {
      "cell_type": "code",
      "source": [
        "str = \"hello, this is a string\"\n",
        "list_str = list(str)\n",
        "a = input(\"Enter character whose occurence is to be calculaed: \")\n",
        "count = 0\n",
        "for i in list_str:\n",
        "  if i == a:\n",
        "    count += 1\n",
        "print(f\"Number of occurence of {a} is : {count}\")\n",
        "\n"
      ],
      "metadata": {
        "id": "9FBwR-hOCfdJ",
        "colab": {
          "base_uri": "https://localhost:8080/"
        },
        "outputId": "a4f9be6a-21cf-41c1-dc2b-52d1ef81c422"
      },
      "execution_count": null,
      "outputs": [
        {
          "output_type": "stream",
          "name": "stdout",
          "text": [
            "Enter character whose occurence is to be calculaed: i\n",
            "Number of occurence of i is : 3\n"
          ]
        }
      ]
    },
    {
      "cell_type": "markdown",
      "source": [
        "17. Create an output list which contain only even numbers present in input list"
      ],
      "metadata": {
        "id": "SrAWgga9HDr0"
      }
    },
    {
      "cell_type": "code",
      "source": [
        "input_list = [1,11,2,22,3,4,8,12,44]\n",
        "output_list = []\n",
        "for i in input_list:\n",
        "  if i%2 == 0:\n",
        "    output_list.append(i)\n",
        "\n",
        "print(f\"{output_list}\")"
      ],
      "metadata": {
        "id": "jbqEX3OWHGQS",
        "colab": {
          "base_uri": "https://localhost:8080/"
        },
        "outputId": "59d22e28-4c20-4f41-98da-56e9b928013b"
      },
      "execution_count": null,
      "outputs": [
        {
          "output_type": "stream",
          "name": "stdout",
          "text": [
            "[2, 22, 4, 8, 12, 44]\n"
          ]
        }
      ]
    },
    {
      "cell_type": "markdown",
      "source": [
        "18. Create an output list which contains squares of all numbers from 1-9"
      ],
      "metadata": {
        "id": "r0ELAq2FGqUf"
      }
    },
    {
      "cell_type": "code",
      "source": [
        "output_list = []\n",
        "for i in range(1,9):\n",
        "  output_list.append(i**2)\n",
        "\n",
        "print(f\"List which contains squares of all numbers from 1-9 is {output_list}\")"
      ],
      "metadata": {
        "id": "Vkv-v6U0GrQk",
        "colab": {
          "base_uri": "https://localhost:8080/"
        },
        "outputId": "f83d117f-940d-4533-88c2-aa05b8e41080"
      },
      "execution_count": null,
      "outputs": [
        {
          "output_type": "stream",
          "name": "stdout",
          "text": [
            "List which contains squares of all numbers from 1-9 is [1, 4, 9, 16, 25, 36, 49, 64]\n"
          ]
        }
      ]
    },
    {
      "cell_type": "markdown",
      "source": [
        "19. Create an output dict which contains only odd numbers that are present in the input list as keys & their cubes as\n",
        "values"
      ],
      "metadata": {
        "id": "1dq1Ja6RpIoo"
      }
    },
    {
      "cell_type": "code",
      "source": [
        "input_list = [1, 2, 3, 4, 5, 6, 7, 8, 9, 10]\n",
        "output_dict = {}\n",
        "\n",
        "for num in input_list:\n",
        "    if num % 2 != 0:\n",
        "        output_dict[num] = num ** 3\n",
        "\n",
        "print(output_dict)"
      ],
      "metadata": {
        "id": "P-0_mkgJpL0E",
        "colab": {
          "base_uri": "https://localhost:8080/"
        },
        "outputId": "8c6cb488-e0f2-4da5-de5f-8f46224cf1e8"
      },
      "execution_count": null,
      "outputs": [
        {
          "output_type": "stream",
          "name": "stdout",
          "text": [
            "{1: 1, 3: 27, 5: 125, 7: 343, 9: 729}\n"
          ]
        }
      ]
    },
    {
      "cell_type": "markdown",
      "source": [
        "20. Given two lists containing the names of states and their corresponding capitals. Construct a dictionary which maps\n",
        "the states with their respective capitals."
      ],
      "metadata": {
        "id": "yy1huHIvpZEC"
      }
    },
    {
      "cell_type": "code",
      "source": [
        "states = [\"Rajasthan\", \"Uttarakhand\", \"Goa\", \"Kerala\", \"Maharashtra\"]\n",
        "capitals = [\"Jaipur\", \"Dehradun\", \"Panaji\", \"Thiruvananthapuram\", \"Mumbai\"]\n",
        "\n",
        "state_capitals = dict(zip(states, capitals))\n",
        "print(state_capitals)"
      ],
      "metadata": {
        "id": "beSzpGwep-NE",
        "colab": {
          "base_uri": "https://localhost:8080/"
        },
        "outputId": "ed3a03f5-b0d3-496f-a5e0-2a9f90363893"
      },
      "execution_count": null,
      "outputs": [
        {
          "output_type": "stream",
          "name": "stdout",
          "text": [
            "{'Rajasthan': 'Jaipur', 'Uttarakhand': 'Dehradun', 'Goa': 'Panaji', 'Kerala': 'Thiruvananthapuram', 'Maharashtra': 'Mumbai'}\n"
          ]
        }
      ]
    },
    {
      "cell_type": "markdown",
      "source": [
        "21. Create an output set which contains even numbers present in input list.\n"
      ],
      "metadata": {
        "id": "mCkzso14pN7w"
      }
    },
    {
      "cell_type": "code",
      "source": [
        "input_list = [1, 2, 3, 4, 5, 6, 7, 8, 9, 10]\n",
        "output_set = set()\n",
        "\n",
        "for num in input_list:\n",
        "    if num % 2 == 0:\n",
        "        output_set.add(num)\n",
        "\n",
        "print(output_set)"
      ],
      "metadata": {
        "id": "k2IfFEOyqK3w",
        "colab": {
          "base_uri": "https://localhost:8080/"
        },
        "outputId": "e73f08ab-5892-4322-e022-4583583e3f97"
      },
      "execution_count": null,
      "outputs": [
        {
          "output_type": "stream",
          "name": "stdout",
          "text": [
            "{2, 4, 6, 8, 10}\n"
          ]
        }
      ]
    },
    {
      "cell_type": "markdown",
      "source": [
        "22. Generate a set of prime numbers and another set of even numbers, demonstrate the result of union, intersection,\n",
        "difference and symmetric difference operation"
      ],
      "metadata": {
        "id": "dTIUByXnqR3v"
      }
    },
    {
      "cell_type": "code",
      "source": [
        "def is_prime(num):\n",
        "    if num < 2:\n",
        "        return False\n",
        "    for i in range(2, int(num ** 0.5) + 1):\n",
        "        if num % i == 0:\n",
        "            return False\n",
        "    return True\n",
        "\n",
        "input_list = [1, 2, 3, 4, 5, 6, 7, 8, 9, 10]\n",
        "\n",
        "prime_set = set()\n",
        "even_set = set()\n",
        "\n",
        "for num in input_list:\n",
        "    if is_prime(num):\n",
        "        prime_set.add(num)\n",
        "    if num % 2 == 0:\n",
        "        even_set.add(num)\n",
        "\n",
        "print(\"Prime Set:\", prime_set)\n",
        "print(\"Even Set:\", even_set)\n",
        "print(\"Union:\", prime_set.union(even_set))\n",
        "print(\"Intersection:\", prime_set.intersection(even_set))\n",
        "print(\"Difference:\", prime_set.difference(even_set))\n",
        "print(\"Symmetric Difference:\", prime_set.symmetric_difference(even_set))"
      ],
      "metadata": {
        "id": "6bNJGx1vqp2J",
        "colab": {
          "base_uri": "https://localhost:8080/"
        },
        "outputId": "a8e9c751-e0b4-4da4-9c4b-b2739e58c9e4"
      },
      "execution_count": null,
      "outputs": [
        {
          "output_type": "stream",
          "name": "stdout",
          "text": [
            "Prime Set: {2, 3, 5, 7}\n",
            "Even Set: {2, 4, 6, 8, 10}\n",
            "Union: {2, 3, 4, 5, 6, 7, 8, 10}\n",
            "Intersection: {2}\n",
            "Difference: {3, 5, 7}\n",
            "Symmetric Difference: {3, 4, 5, 6, 7, 8, 10}\n"
          ]
        }
      ]
    },
    {
      "cell_type": "markdown",
      "source": [
        "23. Write a python program to:\n",
        "(a) To create two new files f1 and f2\n",
        "(b) To read and display the contents, count the number of lines and find the word whose count is more in f1 and\n",
        "f2 respectively.\n",
        "(c) To create and display the file f3 which is a combination of f1 and f2."
      ],
      "metadata": {
        "id": "PtYut6De8Pb7"
      }
    },
    {
      "cell_type": "code",
      "source": [
        "f1 = open(\"f1.txt\", \"w\")\n",
        "f1.write(\"Hello world\\n\")\n",
        "f1.write(\"This is a test file\\n\")\n",
        "f1.close()\n",
        "\n",
        "f2 = open(\"f2.txt\", \"w\")\n",
        "f2.write(\"Welcome to python\\n\")\n",
        "f2.write(\"This is another test file\\n\")\n",
        "f2.close()\n",
        "\n",
        "def process_file(filename):\n",
        "    f = open(filename, \"r\")\n",
        "    contents = f.read()\n",
        "    print(f\"Contents of {filename}:\")\n",
        "    print(contents)\n",
        "    lines = contents.split(\"\\n\")\n",
        "    line_count = len(lines) - 1\n",
        "    print(f\"Number of lines in {filename}: {line_count}\")\n",
        "    words = contents.split()\n",
        "    word_count = {}\n",
        "    for word in words:\n",
        "        word_count[word] = word_count.get(word, 0) + 1\n",
        "    max_word = max(word_count, key=word_count.get)\n",
        "    max_count = word_count[max_word]\n",
        "    print(f\"The word with the highest count in {filename} is '{max_word}' with {max_count} occurrences.\")\n",
        "    f.close()\n",
        "\n",
        "process_file(\"f1.txt\")\n",
        "process_file(\"f2.txt\")\n",
        "\n",
        "f3 = open(\"f3.txt\", \"w\")\n",
        "f1 = open(\"f1.txt\", \"r\")\n",
        "f2 = open(\"f2.txt\", \"r\")\n",
        "contents_f1 = f1.read()\n",
        "contents_f2 = f2.read()\n",
        "contents_f3 = contents_f1 + contents_f2\n",
        "f3.write(contents_f3)\n",
        "print(f\"Contents of f3:\")\n",
        "print(contents_f3)\n",
        "f3.close()\n",
        "f1.close()\n",
        "f2.close()\n"
      ],
      "metadata": {
        "id": "2xCJNmE39Cyq",
        "colab": {
          "base_uri": "https://localhost:8080/"
        },
        "outputId": "43cfea89-5051-4e30-c550-f301d69bd47f"
      },
      "execution_count": null,
      "outputs": [
        {
          "output_type": "stream",
          "name": "stdout",
          "text": [
            "Contents of f1.txt:\n",
            "Hello world\n",
            "This is a test file\n",
            "\n",
            "Number of lines in f1.txt: 2\n",
            "The word with the highest count in f1.txt is 'Hello' with 1 occurrences.\n",
            "Contents of f2.txt:\n",
            "Welcome to python\n",
            "This is another test file\n",
            "\n",
            "Number of lines in f2.txt: 2\n",
            "The word with the highest count in f2.txt is 'Welcome' with 1 occurrences.\n",
            "Contents of f3:\n",
            "Hello world\n",
            "This is a test file\n",
            "Welcome to python\n",
            "This is another test file\n",
            "\n"
          ]
        }
      ]
    },
    {
      "cell_type": "markdown",
      "source": [
        "24. Write an Object-Oriented Python program to create two Time objects: current Time, which contains the current\n",
        "time; and bread Time, which contains the amount of time it takes for a bread maker to make bread. Then we'll use\n",
        "add Time to figure out when the bread will be done. Write the print Time function to display the time when the\n",
        "bread will be done by the bread maker."
      ],
      "metadata": {
        "id": "U_xgyzyt-bZe"
      }
    },
    {
      "cell_type": "code",
      "source": [
        "class Time:\n",
        "    def __init__(self, hour, minute, second):\n",
        "        self.hour = hour\n",
        "        self.minute = minute\n",
        "        self.second = second\n",
        "\n",
        "    def add_time(self, other):\n",
        "        new_time = Time(0, 0, 0)\n",
        "        new_time.second = self.second + other.second\n",
        "        if new_time.second >= 60:\n",
        "            new_time.second -= 60\n",
        "            new_time.minute += 1\n",
        "        new_time.minute += self.minute + other.minute\n",
        "        if new_time.minute >= 60:\n",
        "            new_time.minute -= 60\n",
        "            new_time.hour += 1\n",
        "        new_time.hour += self.hour + other.hour\n",
        "        return new_time\n",
        "\n",
        "    def print_time(self):\n",
        "        print(f\"{self.hour:02d}:{self.minute:02d}:{self.second:02d}\")\n",
        "\n",
        "current_time = Time(13, 20, 4)\n",
        "bread_time = Time(3, 30, 0)\n",
        "done_time = current_time.add_time(bread_time)\n",
        "print(\"The bread will be done by:\")\n",
        "done_time.print_time()\n",
        "\n"
      ],
      "metadata": {
        "id": "zXsxqnTi-kP1",
        "colab": {
          "base_uri": "https://localhost:8080/"
        },
        "outputId": "97cb933d-0d45-4525-b698-d34ffeee0822"
      },
      "execution_count": null,
      "outputs": [
        {
          "output_type": "stream",
          "name": "stdout",
          "text": [
            "The bread will be done by:\n",
            "16:50:04\n"
          ]
        }
      ]
    },
    {
      "cell_type": "markdown",
      "source": [
        "25. Design a Python program as described below:\n",
        "a. Create a class called Palindrome.\n",
        "b. In your Palindrome class, create a method called reverse() which takes a string argument. Your method\n",
        "should return the reverse of the argument as a string.\n",
        "c. Create a second method in Palindrome called isPalindrome() which takes a string argument. This method\n",
        "should return True if the argument is a palindrome and False otherwise.\n",
        "d. Write some code to test your new Palindrome class and print out results of your testing to the user. Give\n",
        "some consideration to what sort of strings you might want to use for your testing."
      ],
      "metadata": {
        "id": "4VjbVvwK_je2"
      }
    },
    {
      "cell_type": "code",
      "source": [
        "class Palindrome:\n",
        "    def reverse(self, s):\n",
        "        reversed_s = \"\"\n",
        "        for i in range(len(s) - 1, -1, -1):\n",
        "            reversed_s += s[i]\n",
        "        return reversed_s\n",
        "\n",
        "    def isPalindrome(self, s):\n",
        "        s = s.lower()\n",
        "        s = s.replace(\" \", \"\")\n",
        "        return s == self.reverse(s)\n",
        "\n",
        "p = Palindrome()\n",
        "test_strings = [\"racecar\", \"Madam\", \"hello\", \"A man, a plan, a canal: Panama\"]\n",
        "for s in test_strings:\n",
        "    print(f\"Testing {s}:\")\n",
        "    print(f\"Reverse: {p.reverse(s)}\")\n",
        "    print(f\"Is palindrome: {p.isPalindrome(s)}\")\n",
        "    print()\n",
        "\n"
      ],
      "metadata": {
        "id": "G3hQbWgU_oiW",
        "colab": {
          "base_uri": "https://localhost:8080/"
        },
        "outputId": "f0320d87-75b0-42ea-a63b-e2de08c5ab40"
      },
      "execution_count": null,
      "outputs": [
        {
          "output_type": "stream",
          "name": "stdout",
          "text": [
            "Testing racecar:\n",
            "Reverse: racecar\n",
            "Is palindrome: True\n",
            "\n",
            "Testing Madam:\n",
            "Reverse: madaM\n",
            "Is palindrome: True\n",
            "\n",
            "Testing hello:\n",
            "Reverse: olleh\n",
            "Is palindrome: False\n",
            "\n",
            "Testing A man, a plan, a canal: Panama:\n",
            "Reverse: amanaP :lanac a ,nalp a ,nam A\n",
            "Is palindrome: False\n",
            "\n"
          ]
        }
      ]
    },
    {
      "cell_type": "markdown",
      "source": [
        "26. Create a class named as Student to store the name and marks in three subjects. Use List to store the marks."
      ],
      "metadata": {
        "id": "UtH385DoAQ9e"
      }
    },
    {
      "cell_type": "code",
      "source": [
        "class Student:\n",
        "    def __init__(self, name, marks):\n",
        "        self.name = name\n",
        "        self.marks = marks\n",
        "\n",
        "    def print_marks(self):\n",
        "        print(f\"Marks for {self.name}: {self.marks}\")\n",
        "\n",
        "student1 = Student(\"John\", [90, 85, 95])\n",
        "student1.print_marks()\n",
        "\n"
      ],
      "metadata": {
        "id": "7M4oCgGfApyL",
        "colab": {
          "base_uri": "https://localhost:8080/"
        },
        "outputId": "5be4fe46-e835-47b1-ad14-126a24eb9d62"
      },
      "execution_count": null,
      "outputs": [
        {
          "output_type": "stream",
          "name": "stdout",
          "text": [
            "Marks for John: [90, 85, 95]\n"
          ]
        }
      ]
    },
    {
      "cell_type": "markdown",
      "source": [
        "**Q.27 Create a class Employee that keeps a track of the number of employees in an organization and also stores their name, designation and salary details.**<br>\n",
        "a. Write a method called getdata to take input (name, designation, salary) from user.<br>\n",
        "b. Write a method called average to find average salary of all the employees in the organization.<br>\n",
        "c. Write a method called display to print all the information of an employee.<br>\n"
      ],
      "metadata": {
        "id": "RInZlL9X1xqq"
      }
    },
    {
      "cell_type": "code",
      "source": [
        "class Employee:\n",
        "    # Class variable to keep track of the number of employees\n",
        "    num_employees = 0\n",
        "    total_salary = 0\n",
        "\n",
        "    # Constructor to initialize the employee details\n",
        "    def __init__(self, name, designation, salary):\n",
        "        self.name = name\n",
        "        self.designation = designation\n",
        "        self.salary = salary\n",
        "        Employee.num_employees += 1\n",
        "        Employee.total_salary += salary\n",
        "\n",
        "    # Method to get data from the user\n",
        "    @classmethod\n",
        "    def getdata(cls):\n",
        "        name = input(\"Enter employee name: \")\n",
        "        designation = input(\"Enter employee designation: \")\n",
        "        salary = float(input(\"Enter employee salary: \"))\n",
        "        return cls(name, designation, salary)\n",
        "\n",
        "    # Method to find the average salary of all employees\n",
        "    @classmethod\n",
        "    def average(cls):\n",
        "        if cls.num_employees > 0:\n",
        "            return cls.total_salary / cls.num_employees\n",
        "        else:\n",
        "            return 0\n",
        "\n",
        "    # Method to display employee information\n",
        "    def display(self):\n",
        "        print(\"Employee Name:\", self.name)\n",
        "        print(\"Designation:\", self.designation)\n",
        "        print(\"Salary:\", self.salary)\n",
        "\n",
        "\n",
        "# Example usage of the Employee class\n",
        "employees = []\n",
        "num_employees = int(input(\"Enter the number of employees: \"))\n",
        "\n",
        "# Getting employee data and adding to the employees list\n",
        "for _ in range(num_employees):\n",
        "    emp = Employee.getdata()\n",
        "    employees.append(emp)\n",
        "\n",
        "# Displaying employee information and average salary\n",
        "print(\"\\nEmployee Information:\")\n",
        "for emp in employees:\n",
        "    emp.display()\n",
        "\n",
        "print(\"\\nAverage Salary of Employees:\", Employee.average())\n"
      ],
      "metadata": {
        "id": "abuYpQvd2NyF",
        "colab": {
          "base_uri": "https://localhost:8080/"
        },
        "outputId": "f6a4c520-ae2c-4978-a430-1e4372fb8e7b"
      },
      "execution_count": null,
      "outputs": [
        {
          "output_type": "stream",
          "name": "stdout",
          "text": [
            "Enter the number of employees: 3\n",
            "Enter employee name: Aman\n",
            "Enter employee designation: HR\n",
            "Enter employee salary: 100000\n",
            "Enter employee name: Joe\n",
            "Enter employee designation: Manager\n",
            "Enter employee salary: 150000\n",
            "Enter employee name: xyz\n",
            "Enter employee designation: senior architect\n",
            "Enter employee salary: 200000\n",
            "\n",
            "Employee Information:\n",
            "Employee Name: Aman\n",
            "Designation: HR\n",
            "Salary: 100000.0\n",
            "Employee Name: Joe\n",
            "Designation: Manager\n",
            "Salary: 150000.0\n",
            "Employee Name: xyz\n",
            "Designation: senior architect\n",
            "Salary: 200000.0\n",
            "\n",
            "Average Salary of Employees: 150000.0\n"
          ]
        }
      ]
    },
    {
      "cell_type": "markdown",
      "source": [
        "28. Create a Python class named Circle constructed by a radius. Use a class variable to define the value of\n",
        "constant PI. Write two methods to be named as area and circum to compute the area and the perimeter of a\n",
        "circle respectively by using class variable PI."
      ],
      "metadata": {
        "id": "8hCr10n91xZ3"
      }
    },
    {
      "cell_type": "code",
      "source": [
        "class Circle:\n",
        "    # Class variable PI\n",
        "    PI = 3.14159\n",
        "\n",
        "    # Constructor to initialize the radius\n",
        "    def __init__(self, radius):\n",
        "        self.radius = radius\n",
        "\n",
        "    # Method to compute the area of the circle\n",
        "    def area(self):\n",
        "        return Circle.PI * self.radius * self.radius\n",
        "\n",
        "    # Method to compute the circumference of the circle\n",
        "    def circum(self):\n",
        "        return 2 * Circle.PI * self.radius\n",
        "\n",
        "\n",
        "radius = float(input(\"Enter radius: \"))\n",
        "circle_instance = Circle(radius)\n",
        "\n",
        "print(\"Area of the circle:\", circle_instance.area())\n",
        "print(\"Circumference of the circle:\", circle_instance.circum())\n"
      ],
      "metadata": {
        "colab": {
          "base_uri": "https://localhost:8080/"
        },
        "id": "bCkysopt16_t",
        "outputId": "2208eb8a-3e97-4ac0-8a7d-7a50c8f48e27"
      },
      "execution_count": null,
      "outputs": [
        {
          "output_type": "stream",
          "name": "stdout",
          "text": [
            "Enter radius: 7\n",
            "Area of the circle: 153.93791\n",
            "Circumference of the circle: 43.98226\n"
          ]
        }
      ]
    },
    {
      "cell_type": "markdown",
      "source": [
        "Q.29 **Write a program that has a class called Fraction with attributes numerator and denominator.** <br>\n",
        "a. Write a method called getdata to enter the values of the attributes.<br>\n",
        "b. Write a method show to print the fraction in simplified form.<br>"
      ],
      "metadata": {
        "id": "Iva5UELV25Js"
      }
    },
    {
      "cell_type": "code",
      "source": [
        "class Fraction:\n",
        "    def __init__(self, numerator, denominator):\n",
        "        self.numerator = numerator\n",
        "        self.denominator = denominator\n",
        "\n",
        "    @staticmethod\n",
        "    def gcd(a, b):\n",
        "        while b:\n",
        "            a, b = b, a % b\n",
        "        return a\n",
        "\n",
        "    def simplify(self):\n",
        "        common_divisor = Fraction.gcd(self.numerator, self.denominator)\n",
        "        self.numerator //= common_divisor\n",
        "        self.denominator //= common_divisor\n",
        "\n",
        "    def getdata(self):\n",
        "        numerator = int(input(\"Enter the numerator: \"))\n",
        "        denominator = int(input(\"Enter the denominator: \"))\n",
        "        if denominator == 0:\n",
        "            print(\"Denominator cannot be zero.\")\n",
        "            return\n",
        "        self.numerator = numerator\n",
        "        self.denominator = denominator\n",
        "        self.simplify()\n",
        "\n",
        "    def show(self):\n",
        "        print(f\"Simplified Fraction: {self.numerator}/{self.denominator}\")\n",
        "\n",
        "fraction = Fraction(0, 1)\n",
        "fraction.getdata()\n",
        "fraction.show()\n"
      ],
      "metadata": {
        "id": "9XAJ84ED3KGC",
        "colab": {
          "base_uri": "https://localhost:8080/"
        },
        "outputId": "756eacea-f7ca-4d36-fe05-5f208f5a33d6"
      },
      "execution_count": null,
      "outputs": [
        {
          "output_type": "stream",
          "name": "stdout",
          "text": [
            "Enter the numerator: 22\n",
            "Enter the denominator: 2\n",
            "Simplified Fraction: 11/1\n"
          ]
        }
      ]
    },
    {
      "cell_type": "markdown",
      "source": [
        "30. A bookshop details contains the Title of the book and Number of copies of each title. As books are added to the\n",
        "shop, the number of copies to each should increase and as books are sold, the number of copies in each should\n",
        "decrease. Implement this scenario using dictionary data type in Python."
      ],
      "metadata": {
        "id": "QD-2rxlV3XGj"
      }
    },
    {
      "cell_type": "code",
      "source": [
        "class Bookshop:\n",
        "    def __init__(self):\n",
        "        self.inventory = {}\n",
        "\n",
        "    def add_book(self, title, copies):\n",
        "        if title in self.inventory:\n",
        "            self.inventory[title] += copies\n",
        "        else:\n",
        "            self.inventory[title] = copies\n",
        "\n",
        "    def sell_book(self, title, copies):\n",
        "        if title in self.inventory:\n",
        "            if self.inventory[title] >= copies:\n",
        "                self.inventory[title] -= copies\n",
        "                print(f\"{copies} copies of '{title}' sold.\")\n",
        "            else:\n",
        "                print(f\"Insufficient copies of '{title}' in stock.\")\n",
        "        else:\n",
        "            print(f\"'{title}' is not in stock.\")\n",
        "\n",
        "    def show_inventory(self):\n",
        "        print(\"Bookshop Inventory:\")\n",
        "        for title, copies in self.inventory.items():\n",
        "            print(f\"{title}: {copies} copies\")\n",
        "\n",
        "bookshop = Bookshop()\n",
        "\n",
        "bookshop.add_book(\"Book A\", 10)\n",
        "bookshop.add_book(\"Book B\", 15)\n",
        "bookshop.add_book(\"Book C\", 5)\n",
        "\n",
        "bookshop.show_inventory()\n",
        "\n",
        "bookshop.sell_book(\"Book A\", 3)\n",
        "bookshop.sell_book(\"Book B\", 20)\n",
        "\n",
        "bookshop.show_inventory()\n"
      ],
      "metadata": {
        "id": "hyTf1-Ht3lCf",
        "colab": {
          "base_uri": "https://localhost:8080/"
        },
        "outputId": "5bbd2859-127a-48bf-af41-0c07637e101b"
      },
      "execution_count": null,
      "outputs": [
        {
          "output_type": "stream",
          "name": "stdout",
          "text": [
            "Bookshop Inventory:\n",
            "Book A: 10 copies\n",
            "Book B: 15 copies\n",
            "Book C: 5 copies\n",
            "3 copies of 'Book A' sold.\n",
            "Insufficient copies of 'Book B' in stock.\n",
            "Bookshop Inventory:\n",
            "Book A: 7 copies\n",
            "Book B: 15 copies\n",
            "Book C: 5 copies\n"
          ]
        }
      ]
    },
    {
      "cell_type": "markdown",
      "source": [
        "31. Write a program that has a dictionary of states and their codes. Add another state in the pre-defined dictionary,\n",
        "print all the items in the dictionary, and try to print code for a state that does not exist. Set a default value prior to\n",
        "printing"
      ],
      "metadata": {
        "id": "jkYvZFPDZ8wi"
      }
    },
    {
      "cell_type": "code",
      "source": [
        "dict = {\n",
        "    \"Goa\" :\t\"GA\",\n",
        "    \"Haryana\" :\t\"HR\",\n",
        "    \"Andaman and Nicobar Islands\" :\t\"AN\",\n",
        "    \"Gujarat\" : \"GJ\"\n",
        "}\n",
        "\n",
        "dict[\"Assam\"] = \"AS\"\n",
        "\n",
        "print(\"codes are :\")\n",
        "for key,value in dict.items():\n",
        "  print(dict[key])\n",
        "\n",
        "state_to_lookup = 'Delhi'\n",
        "default_value = 'N/A'\n",
        "state_code = dict.get(state_to_lookup, default_value)\n",
        "print(f\"The code for {state_to_lookup} is: {state_code}\")"
      ],
      "metadata": {
        "id": "f_fosjTYacuQ",
        "colab": {
          "base_uri": "https://localhost:8080/"
        },
        "outputId": "1430b005-a8e3-47dd-a93d-e09d73a133d9"
      },
      "execution_count": null,
      "outputs": [
        {
          "output_type": "stream",
          "name": "stdout",
          "text": [
            "codes are :\n",
            "GA\n",
            "HR\n",
            "AN\n",
            "GJ\n",
            "AS\n",
            "The code for Delhi is: N/A\n"
          ]
        }
      ]
    },
    {
      "cell_type": "markdown",
      "source": [
        "32. Write a program that has a set of words in English language and their corresponding words in Hindi. Define\n",
        "another dictionary that has a list of words in Hindi and their corresponding words in Urdu. Take all words from\n",
        "English language and display their meaning in both the languages"
      ],
      "metadata": {
        "id": "tQH0CumWcVFs"
      }
    },
    {
      "cell_type": "code",
      "source": [
        "english_to_hindi = {\n",
        "    'hello': 'नमस्ते',\n",
        "    'goodbye': 'अलविदा',\n",
        "    'cat': 'बिल्ली',\n",
        "    'dog': 'कुत्ता',\n",
        "    'tree': 'पेड़',\n",
        "}\n",
        "\n",
        "hindi_to_urdu = {\n",
        "    'नमस्ते': 'سلام',\n",
        "    'अलविदा': 'خدا حافظ',\n",
        "    'बिल्ली': 'بلی',\n",
        "    'कुत्ता': 'کتا',\n",
        "    'पेड़': 'درخت',\n",
        "}\n",
        "\n",
        "# Get a list of English words\n",
        "english_words = list(english_to_hindi.keys())\n",
        "\n",
        "# Display the meanings of English words in both Hindi and Urdu\n",
        "print(\"English Word\\tHindi Meaning\\tUrdu Meaning\")\n",
        "print(\"-------------------------------------------------\")\n",
        "for word in english_words:\n",
        "    hindi_meaning = english_to_hindi.get(word, 'N/A')\n",
        "    urdu_meaning = hindi_to_urdu.get(hindi_meaning, 'N/A')\n",
        "    print(f\"{word}\\t\\t{hindi_meaning}\\t\\t{urdu_meaning}\")\n"
      ],
      "metadata": {
        "id": "vi6KU5IPfomQ",
        "colab": {
          "base_uri": "https://localhost:8080/"
        },
        "outputId": "c0bfba2b-7c4b-4c7a-f790-b2cbeb584543"
      },
      "execution_count": null,
      "outputs": [
        {
          "output_type": "stream",
          "name": "stdout",
          "text": [
            "English Word\tHindi Meaning\tUrdu Meaning\n",
            "-------------------------------------------------\n",
            "hello\t\tनमस्ते\t\tسلام\n",
            "goodbye\t\tअलविदा\t\tخدا حافظ\n",
            "cat\t\tबिल्ली\t\tبلی\n",
            "dog\t\tकुत्ता\t\tکتا\n",
            "tree\t\tपेड़\t\tدرخت\n"
          ]
        }
      ]
    },
    {
      "cell_type": "markdown",
      "source": [
        "33. Write a program to store sparse matrix as a dictionary"
      ],
      "metadata": {
        "id": "ltYkMJAR0TtU"
      }
    },
    {
      "cell_type": "code",
      "source": [
        "def create_sparse_matrix(rows, cols, elements):\n",
        "    sparse_matrix = {}\n",
        "\n",
        "    for row, col, value in elements:\n",
        "        if row not in sparse_matrix:\n",
        "            sparse_matrix[row] = {}\n",
        "        sparse_matrix[row][col] = value\n",
        "    return sparse_matrix\n",
        "\n",
        "def display_sparse_matrix(sparse_matrix, rows, cols):\n",
        "    for i in range(rows):\n",
        "        for j in range(cols):\n",
        "            if i in sparse_matrix and j in sparse_matrix[i]:\n",
        "                print(sparse_matrix[i][j], end=\"\\t\")\n",
        "            else:\n",
        "                print(0, end=\"\\t\")\n",
        "        print()\n",
        "\n",
        "rows = 3\n",
        "cols = 3\n",
        "\n",
        "elements = [(0, 1, 2), (1, 0, 1), (1, 2, 3), (2, 1, 4)]\n",
        "\n",
        "sparse_matrix = create_sparse_matrix(rows, cols, elements)\n",
        "\n",
        "print(\"Sparse Matrix:\")\n",
        "display_sparse_matrix(sparse_matrix, rows, cols)\n"
      ],
      "metadata": {
        "id": "jiQvUgdU0cZX",
        "colab": {
          "base_uri": "https://localhost:8080/"
        },
        "outputId": "8de64334-2aec-45df-9100-6ab852f7e668"
      },
      "execution_count": null,
      "outputs": [
        {
          "output_type": "stream",
          "name": "stdout",
          "text": [
            "Sparse Matrix:\n",
            "0\t2\t0\t\n",
            "1\t0\t3\t\n",
            "0\t4\t0\t\n"
          ]
        }
      ]
    },
    {
      "cell_type": "markdown",
      "source": [
        "34. Write a program that inverts a dictionary. That is, it makes key of one dictionary value of another and vice versa"
      ],
      "metadata": {
        "id": "gnebUZwI5V2i"
      }
    },
    {
      "cell_type": "code",
      "source": [
        "def invert_dictionary(input_dict):\n",
        "    inverted_dict = {}\n",
        "\n",
        "    for key, value in input_dict.items():\n",
        "        inverted_dict[value] = key\n",
        "\n",
        "    return inverted_dict\n",
        "\n",
        "original_dict = {\n",
        "    'apple': 'fruit',\n",
        "    'banana': 'fruit',\n",
        "    'carrot': 'vegetable',\n",
        "    'dog': 'animal',\n",
        "}\n",
        "\n",
        "inverted_dict = invert_dictionary(original_dict)\n",
        "\n",
        "print(\"Original Dictionary:\")\n",
        "print(original_dict)\n",
        "print(\"\\nInverted Dictionary:\")\n",
        "print(inverted_dict)\n"
      ],
      "metadata": {
        "id": "ScVyEIQ55Wi1",
        "colab": {
          "base_uri": "https://localhost:8080/"
        },
        "outputId": "19546f86-69e4-4860-a417-011ae5054b20"
      },
      "execution_count": null,
      "outputs": [
        {
          "output_type": "stream",
          "name": "stdout",
          "text": [
            "Original Dictionary:\n",
            "{'apple': 'fruit', 'banana': 'fruit', 'carrot': 'vegetable', 'dog': 'animal'}\n",
            "\n",
            "Inverted Dictionary:\n",
            "{'fruit': 'banana', 'vegetable': 'carrot', 'animal': 'dog'}\n"
          ]
        }
      ]
    },
    {
      "cell_type": "markdown",
      "source": [
        "35. Write a program that prompts the user to enter a filename. Open the files and print the frequency of each word in\n",
        "it"
      ],
      "metadata": {
        "id": "-UN4xFXm5fRN"
      }
    },
    {
      "cell_type": "code",
      "source": [
        "def count_word_frequencies(text):\n",
        "    word_count = {}\n",
        "    words = text.split()\n",
        "\n",
        "    for word in words:\n",
        "        word = word.strip('.,!?()[]{}\":;')\n",
        "        word = word.lower()\n",
        "\n",
        "        if word not in word_count:\n",
        "            word_count[word] = 1\n",
        "        else:\n",
        "            word_count[word] += 1\n",
        "\n",
        "    return word_count\n",
        "\n",
        "filename = \"/sample.txt\"\n",
        "\n",
        "try:\n",
        "    with open(filename, 'r') as file:\n",
        "        file_contents = file.read()\n",
        "\n",
        "        word_frequencies = count_word_frequencies(file_contents)\n",
        "\n",
        "        print(\"Word Frequencies:\")\n",
        "        for word, frequency in word_frequencies.items():\n",
        "            print(f\"{word}: {frequency}\")\n",
        "except FileNotFoundError:\n",
        "    print(f\"File '{filename}' not found.\")\n",
        "except Exception as e:\n",
        "    print(f\"An error occurred: {e}\")\n"
      ],
      "metadata": {
        "id": "OCMg67Jx5i9y",
        "colab": {
          "base_uri": "https://localhost:8080/"
        },
        "outputId": "bca1c5cb-0597-49ba-b25c-29d8d8bf3287"
      },
      "execution_count": null,
      "outputs": [
        {
          "output_type": "stream",
          "name": "stdout",
          "text": [
            "File '/sample.txt' not found.\n"
          ]
        }
      ]
    },
    {
      "cell_type": "markdown",
      "source": [
        "36. Write a NumPy program to compute the determinant of a given square array."
      ],
      "metadata": {
        "id": "r6P8hFFEvURi"
      }
    },
    {
      "cell_type": "code",
      "source": [
        "import numpy as np\n",
        "from numpy import linalg as LA\n",
        "mat1 = ([1, 6, 5],[3 ,4, 8],[2, 12, 3])\n",
        "mat2 = ([3, 4, 6],[5, 6, 7],[6,56, 7])\n",
        "\n",
        "print(\"determinant of matrix 1 is : \\n \",np.linalg.det(mat1))"
      ],
      "metadata": {
        "colab": {
          "base_uri": "https://localhost:8080/"
        },
        "id": "Oxni03DVvD6E",
        "outputId": "b82e00ff-3bcc-4cb9-a383-6540857159ec"
      },
      "execution_count": null,
      "outputs": [
        {
          "output_type": "stream",
          "name": "stdout",
          "text": [
            "determinant of matrix 1 is : \n",
            "  98.00000000000004\n"
          ]
        }
      ]
    },
    {
      "cell_type": "markdown",
      "source": [
        "37. Write a NumPy program to compute the eigenvalues and right eigenvectors of a given square array"
      ],
      "metadata": {
        "id": "zjy4RT-tvc7O"
      }
    },
    {
      "cell_type": "code",
      "source": [
        "import numpy as np\n",
        "from numpy.linalg import eig\n",
        "\n",
        "arr1 = ([1, 6, 5],[3 ,4, 8],[2, 12, 3])\n",
        "\n",
        "eigen_value , eigen_vector = eig(arr1)\n",
        "print(\"eigen values are: \\n\",eigen_value)\n",
        "print(\"eigen vector are: \\n\",eigen_vector)"
      ],
      "metadata": {
        "colab": {
          "base_uri": "https://localhost:8080/"
        },
        "id": "NHczZ4lTvh68",
        "outputId": "6826cd64-3bbc-496b-9e13-e85eee94e8b5"
      },
      "execution_count": null,
      "outputs": [
        {
          "output_type": "stream",
          "name": "stdout",
          "text": [
            "eigen values are: \n",
            " [15.2876222  -1.02332555 -6.26429664]\n",
            "eigen vector are: \n",
            " [[ 0.4759332   0.94493063 -0.04665095]\n",
            " [ 0.58923536 -0.04899885 -0.60555074]\n",
            " [ 0.65290832 -0.32358184  0.79443816]]\n"
          ]
        }
      ]
    },
    {
      "cell_type": "markdown",
      "source": [
        "38. Write a NumPy program to find a matrix or vector norm"
      ],
      "metadata": {
        "id": "t8NGgvIjvnfJ"
      }
    },
    {
      "cell_type": "code",
      "source": [
        "import numpy as np\n",
        "\n",
        "vec = np.arange(9)\n",
        "mat = vec.reshape((3, 3))\n",
        "\n",
        "vec_norm = np.linalg.norm(vec)\n",
        "print(\"Vector norm:\")\n",
        "print(vec_norm)\n",
        "\n",
        "mat_norm = np.linalg.norm(mat)\n",
        "print(\"Matrix norm:\")\n",
        "print(mat_norm)\n"
      ],
      "metadata": {
        "colab": {
          "base_uri": "https://localhost:8080/"
        },
        "id": "2nR0L3IOvvF9",
        "outputId": "2f9b8f92-23f3-4ef5-bb00-ac88219a5d40"
      },
      "execution_count": null,
      "outputs": [
        {
          "output_type": "stream",
          "name": "stdout",
          "text": [
            "Vector norm:\n",
            "14.2828568570857\n",
            "Matrix norm:\n",
            "14.2828568570857\n"
          ]
        }
      ]
    },
    {
      "cell_type": "markdown",
      "source": [
        "39. Write a NumPy program to compute the inverse of a given matrix"
      ],
      "metadata": {
        "id": "M95uY_FnUDIN"
      }
    },
    {
      "cell_type": "code",
      "source": [
        "# invert matrix\n",
        "from numpy import array\n",
        "from numpy.linalg import inv\n",
        "# define matrix\n",
        "A = array([\n",
        "[1.0, 2.0],\n",
        "[3.0, 4.0]])\n",
        "print(A)\n",
        "# invert matrix\n",
        "B = inv(A)\n",
        "print(B)\n"
      ],
      "metadata": {
        "colab": {
          "base_uri": "https://localhost:8080/"
        },
        "id": "p8YbbaohUGBf",
        "outputId": "b11e00bd-7559-4590-cfc7-d60b262262ec"
      },
      "execution_count": null,
      "outputs": [
        {
          "output_type": "stream",
          "name": "stdout",
          "text": [
            "[[1. 2.]\n",
            " [3. 4.]]\n",
            "[[-2.   1. ]\n",
            " [ 1.5 -0.5]]\n"
          ]
        }
      ]
    }
  ]
}